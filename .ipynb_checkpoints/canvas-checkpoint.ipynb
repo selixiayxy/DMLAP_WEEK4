{
 "cells": [
  {
   "cell_type": "code",
   "execution_count": 1,
   "id": "628a40da",
   "metadata": {},
   "outputs": [
    {
     "ename": "AttributeError",
     "evalue": "'Canvas' object has no attribute 'stroke_weight'",
     "output_type": "error",
     "traceback": [
      "\u001b[1;31m---------------------------------------------------------------------------\u001b[0m",
      "\u001b[1;31mAttributeError\u001b[0m                            Traceback (most recent call last)",
      "Cell \u001b[1;32mIn[1], line 11\u001b[0m\n\u001b[0;32m      9\u001b[0m c\u001b[38;5;241m.\u001b[39mstroke(\u001b[38;5;241m128\u001b[39m)\n\u001b[0;32m     10\u001b[0m c\u001b[38;5;241m.\u001b[39mno_fill()\n\u001b[1;32m---> 11\u001b[0m \u001b[43mc\u001b[49m\u001b[38;5;241;43m.\u001b[39;49m\u001b[43mstroke_weight\u001b[49m(\u001b[38;5;241m5\u001b[39m)\n\u001b[0;32m     12\u001b[0m c\u001b[38;5;241m.\u001b[39mcircle([c\u001b[38;5;241m.\u001b[39mwidth\u001b[38;5;241m/\u001b[39m\u001b[38;5;241m2\u001b[39m, c\u001b[38;5;241m.\u001b[39mheight\u001b[38;5;241m/\u001b[39m\u001b[38;5;241m2\u001b[39m], \u001b[38;5;241m100\u001b[39m)\n\u001b[0;32m     13\u001b[0m \u001b[38;5;66;03m# Draw red text\u001b[39;00m\n",
      "\u001b[1;31mAttributeError\u001b[0m: 'Canvas' object has no attribute 'stroke_weight'"
     ]
    }
   ],
   "source": [
    "import canvas\n",
    "\n",
    "# Create our canvas object\n",
    "c = canvas.Canvas(512, 512)\n",
    "\n",
    "# Clear background to black\n",
    "c.background(0)\n",
    "# Set stroke only and draw circle\n",
    "c.stroke(128)\n",
    "c.no_fill()\n",
    "c.stroke_weight(5)\n",
    "c.circle([c.width/2, c.height/2], 100)\n",
    "# Draw red text\n",
    "c.fill(255, 0, 0)\n",
    "c.text_size(30)\n",
    "c.text([c.width/2, 40], \"Hello world\", center=True)\n",
    "# Save image\n",
    "c.save_image('test.png')\n",
    "c.show()\n"
   ]
  },
  {
   "cell_type": "code",
   "execution_count": 2,
   "id": "73bdf11b",
   "metadata": {},
   "outputs": [],
   "source": [
    "import canvas"
   ]
  },
  {
   "cell_type": "code",
   "execution_count": 3,
   "id": "a22da24a",
   "metadata": {},
   "outputs": [
    {
     "ename": "AttributeError",
     "evalue": "'Canvas' object has no attribute 'stroke_weight'",
     "output_type": "error",
     "traceback": [
      "\u001b[1;31m---------------------------------------------------------------------------\u001b[0m",
      "\u001b[1;31mAttributeError\u001b[0m                            Traceback (most recent call last)",
      "Cell \u001b[1;32mIn[3], line 9\u001b[0m\n\u001b[0;32m      7\u001b[0m c\u001b[38;5;241m.\u001b[39mstroke(\u001b[38;5;241m128\u001b[39m)\n\u001b[0;32m      8\u001b[0m c\u001b[38;5;241m.\u001b[39mno_fill()\n\u001b[1;32m----> 9\u001b[0m \u001b[43mc\u001b[49m\u001b[38;5;241;43m.\u001b[39;49m\u001b[43mstroke_weight\u001b[49m(\u001b[38;5;241m5\u001b[39m)\n\u001b[0;32m     10\u001b[0m c\u001b[38;5;241m.\u001b[39mcircle([c\u001b[38;5;241m.\u001b[39mwidth\u001b[38;5;241m/\u001b[39m\u001b[38;5;241m2\u001b[39m, c\u001b[38;5;241m.\u001b[39mheight\u001b[38;5;241m/\u001b[39m\u001b[38;5;241m2\u001b[39m], \u001b[38;5;241m100\u001b[39m)\n\u001b[0;32m     11\u001b[0m \u001b[38;5;66;03m# Draw red text\u001b[39;00m\n",
      "\u001b[1;31mAttributeError\u001b[0m: 'Canvas' object has no attribute 'stroke_weight'"
     ]
    }
   ],
   "source": [
    "# Create our canvas object\n",
    "c = canvas.Canvas(512, 512)\n",
    "\n",
    "# Clear background to black\n",
    "c.background(0)\n",
    "# Set stroke only and draw circle\n",
    "c.stroke(128)\n",
    "c.no_fill()\n",
    "c.stroke_weight(5)\n",
    "c.circle([c.width/2, c.height/2], 100)\n",
    "# Draw red text\n",
    "c.fill(255, 0, 0)\n",
    "c.text_size(30)\n",
    "c.text([c.width/2, 40], \"Hello world\", center=True)\n",
    "# Save image\n",
    "c.save_image('test.png')\n",
    "c.show()"
   ]
  },
  {
   "cell_type": "code",
   "execution_count": null,
   "id": "c4e19ed3",
   "metadata": {},
   "outputs": [],
   "source": []
  }
 ],
 "metadata": {
  "kernelspec": {
   "display_name": "Python 3 (ipykernel)",
   "language": "python",
   "name": "python3"
  },
  "language_info": {
   "codemirror_mode": {
    "name": "ipython",
    "version": 3
   },
   "file_extension": ".py",
   "mimetype": "text/x-python",
   "name": "python",
   "nbconvert_exporter": "python",
   "pygments_lexer": "ipython3",
   "version": "3.9.16"
  }
 },
 "nbformat": 4,
 "nbformat_minor": 5
}
